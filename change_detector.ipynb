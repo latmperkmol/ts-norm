{
 "cells": [
  {
   "cell_type": "code",
   "execution_count": 2,
   "metadata": {},
   "outputs": [],
   "source": [
    "import os\n",
    "os.chdir(\"C://Users//nleach/PycharmProjects/untitled/\")\n",
    "import imp\n",
    "import change_detector as cd\n",
    "import numpy as np"
   ]
  },
  {
   "cell_type": "code",
   "execution_count": 11,
   "metadata": {},
   "outputs": [],
   "source": [
    "sample_data = np.loadtxt(\"E:/Leach/2017_fires_development_database/AFRF/2017_all_downloads_SR/NDVI_nodata-999/zone969means_despiked.csv\")\n",
    "sample_segs = np.loadtxt(\"E:/Leach/2017_fires_development_database/AFRF/2017_all_downloads_SR/NDVI_nodata-999/zone969means_despiked_segments.csv\")"
   ]
  },
  {
   "cell_type": "code",
   "execution_count": 5,
   "metadata": {},
   "outputs": [
    {
     "name": "stdout",
     "output_type": "stream",
     "text": [
      "[  0.   4.   9.  18.  28.  31.  38.  40.  47.  50.  51.  58.  62.  66.\n",
      "  73.  77.  81.  85.  87.  87.  93.  95.  99. 105. 107. 107. 109. 111.\n",
      " 111. 112. 121. 123. 128. 128. 128. 130. 130. 131. 134. 135. 136. 142.\n",
      " 145. 146. 151. 152. 156. 157. 158. 158. 161. 161. 161. 163. 163. 163.\n",
      " 167. 167. 167. 168. 168. 169. 169. 170. 171. 171. 171. 171. 172. 172.\n",
      " 172. 172. 174. 174. 174. 175. 175. 176. 177. 177. 178. 178. 178. 180.\n",
      " 180. 180. 180. 181. 181. 181. 182. 182. 182. 183. 183. 186. 187. 187.\n",
      " 187. 188. 188. 188. 189. 189. 190. 190. 193. 193. 196. 199. 199. 200.\n",
      " 200. 200. 201. 201. 201. 202. 202. 202. 202. 203. 203. 204. 204. 205.\n",
      " 205. 205. 205. 207. 207. 213. 214. 215. 217. 218. 218. 220. 221. 224.\n",
      " 228. 228. 228. 228. 234. 237. 237. 241. 246. 247. 247. 252. 254. 256.\n",
      " 256. 264. 264. 272. 272. 275. 287. 288. 289. 292. 293. 294. 294. 294.\n",
      " 295. 295. 295. 296. 296. 300. 300. 301. 301. 302. 302. 302. 302. 303.\n",
      " 304. 307. 307. 307. 310. 312. 314. 315. 318. 318. 320. 320. 321. 323.\n",
      " 323. 324. 325. 325. 326. 326. 326. 328. 328. 329. 330. 330. 331. 331.\n",
      " 331. 334. 336. 338. 338. 339. 339. 340. 340. 341. 343. 344. 344. 345.\n",
      " 346. 346. 348. 350. 351. 351. 352. 352. 354. 354. 355. 358. 358. 358.]\n"
     ]
    }
   ],
   "source": [
    "workingdir = \"E:/Leach/2017_fires_development_database/AFRF/2017_all_downloads_SR/NDVI_nodata-999\"\n",
    "doy = np.loadtxt(os.path.join(workingdir, \"rel_doy.csv\"))\n",
    "print(doy)"
   ]
  },
  {
   "cell_type": "code",
   "execution_count": 12,
   "metadata": {},
   "outputs": [
    {
     "data": {
      "image/png": "[encoded data removed]",
      "text/plain": [
       "<matplotlib.figure.Figure at 0xbc99d30>"
      ]
     },
     "metadata": {},
     "output_type": "display_data"
    }
   ],
   "source": [
    "import matplotlib.pyplot as plt\n",
    "plt.plot(doy, sample_segs, '-')\n",
    "plt.plot(doy, sample_data, '.')\n",
    "plt.show()"
   ]
  },
  {
   "cell_type": "code",
   "execution_count": 13,
   "metadata": {},
   "outputs": [
    {
     "name": "stdout",
     "output_type": "stream",
     "text": [
      "[-0.12512559  0.          0.37069971  0.38368816  0.39667661  0.40079746\n",
      "  0.35281521  0.30483296  0.32546316  0.31817733  0.3108915   0.29914025\n",
      "  0.28738899  0.          0.          0.26986362  0.3390501   0.41448022\n",
      "  0.38433027  0.          0.          0.27528081  0.27541704  0.27555327\n",
      "  0.45967031  0.37090883  0.28214734  0.53372759  0.          0.\n",
      "  0.28547778  0.14389285  0.          0.29298735  0.27276284  0.\n",
      "  0.          0.29022861  0.33033     0.32945833  0.32858665  0.33199717\n",
      "  0.33016048  0.32832379  0.35493613  0.35476548  0.35459484  0.3503842\n",
      "  0.30639154  0.26239888  0.27306892  0.28373896  0.          0.\n",
      "  0.34800688  0.3514303   0.          0.          0.08033751  0.04016876\n",
      "  0.          0.          0.          0.34984946  0.34975554  0.34966162\n",
      "  0.34952505  0.35148342  0.15972019  0.          0.          0.\n",
      "  0.          0.          0.          0.          0.          0.\n",
      "  0.33511675  0.2845272   0.28141047  0.27829375  0.30173962  0.3516126\n",
      "  0.34892505  0.          0.          0.          0.35707388  0.35118486\n",
      "  0.350379    0.34957314  0.34439724  0.30034644  0.32601738  0.32563379\n",
      "  0.3252502   0.32284468  0.34767466  0.          0.          0.\n",
      "  0.          0.          0.          0.          0.          0.\n",
      "  0.          0.30656631  0.32617046  0.34577461  0.3491698   0.34866877\n",
      "  0.81025049  0.          0.25961721  0.2514344   0.          0.\n",
      "  0.26075947  0.268675    0.33428201  0.330176    0.          0.\n",
      "  0.          0.33029236  0.37360386  0.37057048  0.36753711  0.3470395\n",
      "  0.          0.          0.40283806  0.31561921  0.30737664  0.29913407\n",
      "  0.35655459  0.35325867  0.34996274  0.34829458  0.34545972  0.35165986\n",
      "  0.          0.          0.34127388  0.34512146  0.          0.\n",
      "  0.34426995  0.34255183  0.32998564  0.31741946  0.35894851  0.33698618\n",
      "  0.33229463  0.32783368  0.32337273  0.32393944  0.32450615  0.32158718\n",
      "  0.31188994  0.29934263  0.29938433  0.29942603  0.30137206  0.30331809\n",
      "  0.35826494  0.          0.          0.          0.31563027  0.50507881\n",
      "  0.46704883  0.31485083  0.31875483  0.28922903  0.25970322  0.23957437\n",
      "  0.21944551  0.31000854  0.31837114  0.32536106  0.28040104  0.23544102\n",
      "  0.39669063  0.          0.          0.44818691  0.32569063  0.37726393\n",
      "  0.26645566  0.          0.          0.          0.20669468  0.3424646\n",
      "  0.34027853  0.33809246  0.16904623  0.          0.28302361  0.31775654\n",
      "  0.30279473  0.          0.          0.17497649  0.35536074  0.\n",
      "  0.          0.47362598  0.40191223  0.36454269  0.32717314  0.\n",
      "  0.          0.          0.          0.          0.          0.\n",
      "  0.          0.          0.32610928  0.32872034  0.3313314   0.32281338\n",
      "  0.30490239  0.28699141  0.26808647  0.          0.80350645  0.32588945\n",
      "  0.          0.          0.33695935  0.33173589]\n"
     ]
    }
   ],
   "source": [
    "print(sample_data)\n",
    "nonzero = np.argwhere(sample_data>0)"
   ]
  },
  {
   "cell_type": "code",
   "execution_count": 14,
   "metadata": {},
   "outputs": [
    {
     "name": "stdout",
     "output_type": "stream",
     "text": [
      "[[  2]\n",
      " [  3]\n",
      " [  4]\n",
      " [  5]\n",
      " [  6]\n",
      " [  7]\n",
      " [  8]\n",
      " [  9]\n",
      " [ 10]\n",
      " [ 11]\n",
      " [ 12]\n",
      " [ 15]\n",
      " [ 16]\n",
      " [ 17]\n",
      " [ 18]\n",
      " [ 21]\n",
      " [ 22]\n",
      " [ 23]\n",
      " [ 24]\n",
      " [ 25]\n",
      " [ 26]\n",
      " [ 27]\n",
      " [ 30]\n",
      " [ 31]\n",
      " [ 33]\n",
      " [ 34]\n",
      " [ 37]\n",
      " [ 38]\n",
      " [ 39]\n",
      " [ 40]\n",
      " [ 41]\n",
      " [ 42]\n",
      " [ 43]\n",
      " [ 44]\n",
      " [ 45]\n",
      " [ 46]\n",
      " [ 47]\n",
      " [ 48]\n",
      " [ 49]\n",
      " [ 50]\n",
      " [ 51]\n",
      " [ 54]\n",
      " [ 55]\n",
      " [ 58]\n",
      " [ 59]\n",
      " [ 63]\n",
      " [ 64]\n",
      " [ 65]\n",
      " [ 66]\n",
      " [ 67]\n",
      " [ 68]\n",
      " [ 78]\n",
      " [ 79]\n",
      " [ 80]\n",
      " [ 81]\n",
      " [ 82]\n",
      " [ 83]\n",
      " [ 84]\n",
      " [ 88]\n",
      " [ 89]\n",
      " [ 90]\n",
      " [ 91]\n",
      " [ 92]\n",
      " [ 93]\n",
      " [ 94]\n",
      " [ 95]\n",
      " [ 96]\n",
      " [ 97]\n",
      " [ 98]\n",
      " [109]\n",
      " [110]\n",
      " [111]\n",
      " [112]\n",
      " [113]\n",
      " [114]\n",
      " [116]\n",
      " [117]\n",
      " [120]\n",
      " [121]\n",
      " [122]\n",
      " [123]\n",
      " [127]\n",
      " [128]\n",
      " [129]\n",
      " [130]\n",
      " [131]\n",
      " [134]\n",
      " [135]\n",
      " [136]\n",
      " [137]\n",
      " [138]\n",
      " [139]\n",
      " [140]\n",
      " [141]\n",
      " [142]\n",
      " [143]\n",
      " [146]\n",
      " [147]\n",
      " [150]\n",
      " [151]\n",
      " [152]\n",
      " [153]\n",
      " [154]\n",
      " [155]\n",
      " [156]\n",
      " [157]\n",
      " [158]\n",
      " [159]\n",
      " [160]\n",
      " [161]\n",
      " [162]\n",
      " [163]\n",
      " [164]\n",
      " [165]\n",
      " [166]\n",
      " [167]\n",
      " [168]\n",
      " [172]\n",
      " [173]\n",
      " [174]\n",
      " [175]\n",
      " [176]\n",
      " [177]\n",
      " [178]\n",
      " [179]\n",
      " [180]\n",
      " [181]\n",
      " [182]\n",
      " [183]\n",
      " [184]\n",
      " [185]\n",
      " [186]\n",
      " [189]\n",
      " [190]\n",
      " [191]\n",
      " [192]\n",
      " [196]\n",
      " [197]\n",
      " [198]\n",
      " [199]\n",
      " [200]\n",
      " [202]\n",
      " [203]\n",
      " [204]\n",
      " [207]\n",
      " [208]\n",
      " [211]\n",
      " [212]\n",
      " [213]\n",
      " [214]\n",
      " [224]\n",
      " [225]\n",
      " [226]\n",
      " [227]\n",
      " [228]\n",
      " [229]\n",
      " [230]\n",
      " [232]\n",
      " [233]\n",
      " [236]\n",
      " [237]]\n"
     ]
    }
   ],
   "source": [
    "print(nonzero)"
   ]
  },
  {
   "cell_type": "code",
   "execution_count": 15,
   "metadata": {},
   "outputs": [
    {
     "name": "stdout",
     "output_type": "stream",
     "text": [
      "238\n",
      "161\n"
     ]
    }
   ],
   "source": [
    "print(len(sample_data))\n",
    "print(len(nonzero))\n"
   ]
  },
  {
   "cell_type": "code",
   "execution_count": 18,
   "metadata": {},
   "outputs": [
    {
     "data": {
      "text/plain": [
       "numpy.float64"
      ]
     },
     "execution_count": 18,
     "metadata": {},
     "output_type": "execute_result"
    }
   ],
   "source": [
    "type(sample_data[1])"
   ]
  },
  {
   "cell_type": "code",
   "execution_count": 19,
   "metadata": {},
   "outputs": [],
   "source": [
    "masked_sample_data = np.ma.masked_equal(sample_data, 0.0)"
   ]
  },
  {
   "cell_type": "code",
   "execution_count": 20,
   "metadata": {},
   "outputs": [
    {
     "data": {
      "text/plain": [
       "masked_array(data=[-0.1251255859375, --, 0.37069970703125,\n",
       "                   0.38368815917968746, 0.396676611328125,\n",
       "                   0.4007974609375, 0.3528152099609375, 0.304832958984375,\n",
       "                   0.3254631591796875, 0.31817733154296873,\n",
       "                   0.31089150390625, 0.2991402465820312,\n",
       "                   0.2873889892578125, --, --, 0.269863623046875,\n",
       "                   0.33905009765625, 0.414480224609375, 0.3843302734375,\n",
       "                   --, --, 0.275280810546875, 0.275417041015625,\n",
       "                   0.275553271484375, 0.4596703125, 0.37090882568359373,\n",
       "                   0.2821473388671875, 0.533727587890625, --, --,\n",
       "                   0.285477783203125, 0.1438928466796875, --,\n",
       "                   0.292987353515625, 0.272762841796875, --, --,\n",
       "                   0.29022861328125, 0.3303300048828125,\n",
       "                   0.3294583251953125, 0.3285866455078125,\n",
       "                   0.33199716796875, 0.3301604797363281,\n",
       "                   0.3283237915039062, 0.3549361328125,\n",
       "                   0.35476548461914065, 0.35459483642578127,\n",
       "                   0.3503842041015625, 0.30639154052734374,\n",
       "                   0.262398876953125, 0.2730689208984375,\n",
       "                   0.28373896484375, --, --, 0.348006884765625,\n",
       "                   0.3514302978515625, --, --, 0.08033751220703125,\n",
       "                   0.04016875610351563, --, --, --, 0.349849462890625,\n",
       "                   0.3497555419921875, 0.34966162109375,\n",
       "                   0.349525048828125, 0.3514834228515625,\n",
       "                   0.15972018657339096, --, --, --, --, --, --, --, --,\n",
       "                   --, 0.335116748046875, 0.284527197265625,\n",
       "                   0.28141047363281246, 0.27829375, 0.3017396240234375,\n",
       "                   0.35161259765625, 0.348925048828125, --, --, --,\n",
       "                   0.357073876953125, 0.35118486328125, 0.35037900390625,\n",
       "                   0.34957314453125, 0.3443972412109375,\n",
       "                   0.300346435546875, 0.3260173828125,\n",
       "                   0.32563378906249996, 0.3252501953125,\n",
       "                   0.322844677734375, 0.347674658203125, --, --, --, --,\n",
       "                   --, --, --, --, --, --, 0.30656630859375,\n",
       "                   0.326170458984375, 0.345774609375, 0.3491697998046875,\n",
       "                   0.3486687744140625, 0.81025048828125, --,\n",
       "                   0.2596172119140625, 0.2514343994140625, --, --,\n",
       "                   0.26075947265625, 0.268675, 0.3342820068359375,\n",
       "                   0.3301760009765625, --, --, --, 0.3302923583984375,\n",
       "                   0.373603857421875, 0.3705704833984375, 0.367537109375,\n",
       "                   0.347039501953125, --, --, 0.4028380615234375,\n",
       "                   0.3156192138671875, 0.3073766418457031,\n",
       "                   0.29913406982421875, 0.35655458984375,\n",
       "                   0.3532586669921875, 0.349962744140625,\n",
       "                   0.348294580078125, 0.345459716796875, 0.35165986328125,\n",
       "                   --, --, 0.341273876953125, 0.3451214599609375, --, --,\n",
       "                   0.3442699462890625, 0.3425518310546875,\n",
       "                   0.32998564453125, 0.3174194580078125,\n",
       "                   0.3589485107421875, 0.336986181640625,\n",
       "                   0.33229462890625, 0.32783367919921874,\n",
       "                   0.3233727294921875, 0.3239394409179688,\n",
       "                   0.32450615234375, 0.3215871826171875, 0.31188994140625,\n",
       "                   0.29934262695312497, 0.299384326171875,\n",
       "                   0.299426025390625, 0.30137205810546874,\n",
       "                   0.3033180908203125, 0.35826494140625, --, --, --,\n",
       "                   0.3156302734375, 0.50507880859375, 0.467048828125,\n",
       "                   0.314850830078125, 0.318754833984375,\n",
       "                   0.2892290283203125, 0.25970322265625,\n",
       "                   0.239574365234375, 0.2194455078125, 0.310008544921875,\n",
       "                   0.318371142578125, 0.3253610595703125,\n",
       "                   0.2804010375976563, 0.235441015625, 0.396690625, --,\n",
       "                   --, 0.4481869140625, 0.325690625, 0.3772639287764269,\n",
       "                   0.2664556640625, --, --, --, 0.206694677734375,\n",
       "                   0.342464599609375, 0.3402785278320313,\n",
       "                   0.3380924560546875, 0.16904622802734376, --,\n",
       "                   0.2830236083984375, 0.31775654296875, 0.3027947265625,\n",
       "                   --, --, 0.1749764892578125, 0.3553607421875, --, --,\n",
       "                   0.4736259765625, 0.4019122314453125,\n",
       "                   0.36454268798828127, 0.32717314453125, --, --, --, --,\n",
       "                   --, --, --, --, --, 0.32610927734375,\n",
       "                   0.3287203369140625, 0.331331396484375,\n",
       "                   0.32281337890625, 0.304902392578125, 0.28699140625,\n",
       "                   0.268086474609375, --, 0.8035064453125, 0.325889453125,\n",
       "                   --, --, 0.3369593505859375, 0.331735888671875],\n",
       "             mask=[False,  True, False, False, False, False, False, False,\n",
       "                   False, False, False, False, False,  True,  True, False,\n",
       "                   False, False, False,  True,  True, False, False, False,\n",
       "                   False, False, False, False,  True,  True, False, False,\n",
       "                    True, False, False,  True,  True, False, False, False,\n",
       "                   False, False, False, False, False, False, False, False,\n",
       "                   False, False, False, False,  True,  True, False, False,\n",
       "                    True,  True, False, False,  True,  True,  True, False,\n",
       "                   False, False, False, False, False,  True,  True,  True,\n",
       "                    True,  True,  True,  True,  True,  True, False, False,\n",
       "                   False, False, False, False, False,  True,  True,  True,\n",
       "                   False, False, False, False, False, False, False, False,\n",
       "                   False, False, False,  True,  True,  True,  True,  True,\n",
       "                    True,  True,  True,  True,  True, False, False, False,\n",
       "                   False, False, False,  True, False, False,  True,  True,\n",
       "                   False, False, False, False,  True,  True,  True, False,\n",
       "                   False, False, False, False,  True,  True, False, False,\n",
       "                   False, False, False, False, False, False, False, False,\n",
       "                    True,  True, False, False,  True,  True, False, False,\n",
       "                   False, False, False, False, False, False, False, False,\n",
       "                   False, False, False, False, False, False, False, False,\n",
       "                   False,  True,  True,  True, False, False, False, False,\n",
       "                   False, False, False, False, False, False, False, False,\n",
       "                   False, False, False,  True,  True, False, False, False,\n",
       "                   False,  True,  True,  True, False, False, False, False,\n",
       "                   False,  True, False, False, False,  True,  True, False,\n",
       "                   False,  True,  True, False, False, False, False,  True,\n",
       "                    True,  True,  True,  True,  True,  True,  True,  True,\n",
       "                   False, False, False, False, False, False, False,  True,\n",
       "                   False, False,  True,  True, False, False],\n",
       "       fill_value=0.0)"
      ]
     },
     "execution_count": 20,
     "metadata": {},
     "output_type": "execute_result"
    }
   ],
   "source": [
    "masked_sample_data"
   ]
  },
  {
   "cell_type": "code",
   "execution_count": 21,
   "metadata": {},
   "outputs": [],
   "source": [
    "compressed_sample_data = masked_sample_data.compressed()"
   ]
  },
  {
   "cell_type": "code",
   "execution_count": 22,
   "metadata": {},
   "outputs": [
    {
     "data": {
      "text/plain": [
       "False"
      ]
     },
     "execution_count": 22,
     "metadata": {},
     "output_type": "execute_result"
    }
   ],
   "source": [
    "len(compressed_sample_data) == len(nonzero)"
   ]
  },
  {
   "cell_type": "code",
   "execution_count": 23,
   "metadata": {},
   "outputs": [
    {
     "name": "stdout",
     "output_type": "stream",
     "text": [
      "162\n",
      "161\n"
     ]
    }
   ],
   "source": [
    "print(len(compressed_sample_data))\n",
    "print(len(nonzero))"
   ]
  },
  {
   "cell_type": "code",
   "execution_count": 25,
   "metadata": {},
   "outputs": [],
   "source": [
    "masked_doy = np.ma.array(doy, mask=masked_sample_data.mask)"
   ]
  },
  {
   "cell_type": "code",
   "execution_count": 26,
   "metadata": {},
   "outputs": [
    {
     "data": {
      "text/plain": [
       "162"
      ]
     },
     "execution_count": 26,
     "metadata": {},
     "output_type": "execute_result"
    }
   ],
   "source": [
    "compressed_doy = masked_doy.compressed()\n",
    "len(compressed_doy)"
   ]
  },
  {
   "cell_type": "code",
   "execution_count": 28,
   "metadata": {},
   "outputs": [
    {
     "data": {
      "image/png": "[encoded data removed]",
      "text/plain": [
       "<matplotlib.figure.Figure at 0xc2ebe48>"
      ]
     },
     "metadata": {},
     "output_type": "display_data"
    }
   ],
   "source": [
    "plt.plot(compressed_doy, compressed_sample_data, '.')\n",
    "plt.show()"
   ]
  },
  {
   "cell_type": "markdown",
   "metadata": {},
   "source": [
    "## This compression is now added to the zonal_stats_script. Let's see if it works\n",
    "segments = seg_fit(despiked_vector, 5, 0.01, compressed_doy)"
   ]
  },
  {
   "cell_type": "code",
   "execution_count": 33,
   "metadata": {},
   "outputs": [],
   "source": [
    "sample_data969 = np.loadtxt(\"E:/Leach/2017_fires_development_database/AFRF/2017_all_downloads_SR/NDVI_nodata-999/zone969means_comp_despiked.csv\")\n",
    "sample_segs969 = np.loadtxt(\"E:/Leach/2017_fires_development_database/AFRF/2017_all_downloads_SR/NDVI_nodata-999/zone969means_segments.csv\")\n",
    "doy969 = np.loadtxt(\"E:/Leach/2017_fires_development_database/AFRF/2017_all_downloads_SR/NDVI_nodata-999/zone969means_rel_doy.csv\")"
   ]
  },
  {
   "cell_type": "code",
   "execution_count": 34,
   "metadata": {},
   "outputs": [
    {
     "data": {
      "image/png": "[encoded data removed]",
      "text/plain": [
       "<matplotlib.figure.Figure at 0xbdd1588>"
      ]
     },
     "metadata": {},
     "output_type": "display_data"
    }
   ],
   "source": [
    "plt.plot(doy969, sample_data969, '.')\n",
    "plt.plot(doy969, sample_segs969, '-')\n",
    "plt.show()"
   ]
  },
  {
   "cell_type": "code",
   "execution_count": 35,
   "metadata": {},
   "outputs": [
    {
     "data": {
      "image/png": "[encoded data removed]",
      "text/plain": [
       "<matplotlib.figure.Figure at 0xbcae5c0>"
      ]
     },
     "metadata": {},
     "output_type": "display_data"
    }
   ],
   "source": [
    "sample_data2000 = np.loadtxt(\"E:/Leach/2017_fires_development_database/AFRF/2017_all_downloads_SR/NDVI_nodata-999/zone2000means_comp_despiked.csv\")\n",
    "sample_segs2000 = np.loadtxt(\"E:/Leach/2017_fires_development_database/AFRF/2017_all_downloads_SR/NDVI_nodata-999/zone2000means_segments.csv\")\n",
    "doy2000 = np.loadtxt(\"E:/Leach/2017_fires_development_database/AFRF/2017_all_downloads_SR/NDVI_nodata-999/zone2000means_rel_doy.csv\")\n",
    "\n",
    "plt.plot(doy2000, sample_data2000, '.')\n",
    "plt.plot(doy2000, sample_segs2000, '-')\n",
    "plt.show()"
   ]
  },
  {
   "cell_type": "code",
   "execution_count": 38,
   "metadata": {
    "scrolled": true
   },
   "outputs": [
    {
     "data": {
      "image/png": "[encoded data removed]",
      "text/plain": [
       "<matplotlib.figure.Figure at 0xbbe52b0>"
      ]
     },
     "metadata": {},
     "output_type": "display_data"
    }
   ],
   "source": [
    "sample_data2289 = np.loadtxt(\"E:/Leach/2017_fires_development_database/AFRF/2017_all_downloads_SR/NDVI_nodata-999/zone2289means_comp_despiked.csv\")\n",
    "sample_segs2289 = np.loadtxt(\"E:/Leach/2017_fires_development_database/AFRF/2017_all_downloads_SR/NDVI_nodata-999/zone2289means_segments.csv\")\n",
    "doy2289 = np.loadtxt(\"E:/Leach/2017_fires_development_database/AFRF/2017_all_downloads_SR/NDVI_nodata-999/zone2289means_rel_doy.csv\")\n",
    "\n",
    "plt.plot(doy2289, sample_data2289, '.')\n",
    "plt.plot(doy2289, sample_segs2289, '-')\n",
    "plt.show()"
   ]
  },
  {
   "cell_type": "code",
   "execution_count": 39,
   "metadata": {},
   "outputs": [
    {
     "data": {
      "text/plain": [
       "array([ 0.39184268,  0.38553992,  0.38728389,  0.38902786,  0.42419951,\n",
       "        0.17994294,  0.14228568,  0.06264129, -1.        , -0.36814617,\n",
       "        0.27266694,  0.29437267,  0.31607841,  0.24977524,  0.15340117])"
      ]
     },
     "execution_count": 39,
     "metadata": {},
     "output_type": "execute_result"
    }
   ],
   "source": [
    "sample_data2289[-15:]"
   ]
  },
  {
   "cell_type": "code",
   "execution_count": null,
   "metadata": {},
   "outputs": [],
   "source": []
  }
 ],
 "metadata": {
  "kernelspec": {
   "display_name": "Python 2",
   "language": "python",
   "name": "python2"
  },
  "language_info": {
   "codemirror_mode": {
    "name": "ipython",
    "version": 2
   },
   "file_extension": ".py",
   "mimetype": "text/x-python",
   "name": "python",
   "nbconvert_exporter": "python",
   "pygments_lexer": "ipython2",
   "version": "2.7.12"
  }
 },
 "nbformat": 4,
 "nbformat_minor": 2
}
